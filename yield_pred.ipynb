{
 "cells": [
  {
   "cell_type": "markdown",
   "metadata": {},
   "source": [
    "# Crop yield prediction using perceptron model\n"
   ]
  },
  {
   "cell_type": "code",
   "execution_count": 1,
   "metadata": {},
   "outputs": [],
   "source": [
    "import numpy as np\n",
    "import pandas as pd\n",
    "import csv"
   ]
  },
  {
   "cell_type": "code",
   "execution_count": 2,
   "metadata": {},
   "outputs": [],
   "source": [
    "data = None"
   ]
  },
  {
   "cell_type": "code",
   "execution_count": 3,
   "metadata": {},
   "outputs": [
    {
     "data": {
      "text/html": [
       "<div>\n",
       "<style scoped>\n",
       "    .dataframe tbody tr th:only-of-type {\n",
       "        vertical-align: middle;\n",
       "    }\n",
       "\n",
       "    .dataframe tbody tr th {\n",
       "        vertical-align: top;\n",
       "    }\n",
       "\n",
       "    .dataframe thead th {\n",
       "        text-align: right;\n",
       "    }\n",
       "</style>\n",
       "<table border=\"1\" class=\"dataframe\">\n",
       "  <thead>\n",
       "    <tr style=\"text-align: right;\">\n",
       "      <th></th>\n",
       "      <th>ï»¿Crop</th>\n",
       "      <th>Year</th>\n",
       "      <th>Rainfall</th>\n",
       "      <th>Temp</th>\n",
       "      <th>N</th>\n",
       "      <th>P</th>\n",
       "      <th>K</th>\n",
       "      <th>Yield(Tons/Hectre)</th>\n",
       "    </tr>\n",
       "  </thead>\n",
       "  <tbody>\n",
       "    <tr>\n",
       "      <th>0</th>\n",
       "      <td>Bajra</td>\n",
       "      <td>1998</td>\n",
       "      <td>815.087</td>\n",
       "      <td>26.0</td>\n",
       "      <td>39.11</td>\n",
       "      <td>41.25</td>\n",
       "      <td>7.13</td>\n",
       "      <td>1.07</td>\n",
       "    </tr>\n",
       "    <tr>\n",
       "      <th>1</th>\n",
       "      <td>Bajra</td>\n",
       "      <td>1999</td>\n",
       "      <td>768.995</td>\n",
       "      <td>27.0</td>\n",
       "      <td>39.11</td>\n",
       "      <td>41.25</td>\n",
       "      <td>7.13</td>\n",
       "      <td>0.73</td>\n",
       "    </tr>\n",
       "    <tr>\n",
       "      <th>2</th>\n",
       "      <td>Bajra</td>\n",
       "      <td>2000</td>\n",
       "      <td>857.558</td>\n",
       "      <td>28.0</td>\n",
       "      <td>39.11</td>\n",
       "      <td>41.25</td>\n",
       "      <td>7.13</td>\n",
       "      <td>1.00</td>\n",
       "    </tr>\n",
       "    <tr>\n",
       "      <th>3</th>\n",
       "      <td>Bajra</td>\n",
       "      <td>2001</td>\n",
       "      <td>607.528</td>\n",
       "      <td>25.0</td>\n",
       "      <td>39.11</td>\n",
       "      <td>41.25</td>\n",
       "      <td>7.13</td>\n",
       "      <td>0.76</td>\n",
       "    </tr>\n",
       "    <tr>\n",
       "      <th>4</th>\n",
       "      <td>Bajra</td>\n",
       "      <td>2002</td>\n",
       "      <td>632.970</td>\n",
       "      <td>27.0</td>\n",
       "      <td>39.11</td>\n",
       "      <td>41.25</td>\n",
       "      <td>7.13</td>\n",
       "      <td>0.30</td>\n",
       "    </tr>\n",
       "  </tbody>\n",
       "</table>\n",
       "</div>"
      ],
      "text/plain": [
       "  ï»¿Crop  Year  Rainfall  Temp      N      P     K  Yield(Tons/Hectre)\n",
       "0   Bajra  1998   815.087  26.0  39.11  41.25  7.13                1.07\n",
       "1   Bajra  1999   768.995  27.0  39.11  41.25  7.13                0.73\n",
       "2   Bajra  2000   857.558  28.0  39.11  41.25  7.13                1.00\n",
       "3   Bajra  2001   607.528  25.0  39.11  41.25  7.13                0.76\n",
       "4   Bajra  2002   632.970  27.0  39.11  41.25  7.13                0.30"
      ]
     },
     "execution_count": 3,
     "metadata": {},
     "output_type": "execute_result"
    }
   ],
   "source": [
    "with open('data/bagalkot.csv', 'r') as data_file:\n",
    "    data = pd.read_csv(data_file, delimiter=',')\n",
    "data.head()"
   ]
  },
  {
   "cell_type": "markdown",
   "metadata": {},
   "source": [
    "## Training data\n",
    "- X_train :- N,P,K,Rainfall and temprature data \n",
    "- Y-train :- Yield data"
   ]
  },
  {
   "cell_type": "code",
   "execution_count": 4,
   "metadata": {},
   "outputs": [],
   "source": [
    "X_train = []\n",
    "Y_train = []"
   ]
  },
  {
   "cell_type": "code",
   "execution_count": 5,
   "metadata": {},
   "outputs": [
    {
     "name": "stdout",
     "output_type": "stream",
     "text": [
      "(180, 5)\n",
      "(180,)\n"
     ]
    }
   ],
   "source": [
    "for _, row in data.iterrows():\n",
    "    X_train.append([row[\"Rainfall\"], row[\"Temp\"], row[\"N\"],row[\"P\"], row[\"K\"]])\n",
    "    Y_train.append(row[\"Yield(Tons/Hectre)\"])\n",
    "X_train = np.array(X_train)\n",
    "Y_train = np.array(Y_train)*1000\n",
    "print(X_train.shape)\n",
    "print(Y_train.shape)"
   ]
  },
  {
   "cell_type": "markdown",
   "metadata": {},
   "source": [
    "## Yield prediction done according to following points\n",
    "- Prediction formula is Wi*Xi+bias where W= Weight of X , X = (N,P,K,Rainfall,Temp).\n",
    "- Network is of 5 nodes with N,P,K,Rainfall,Temp"
   ]
  },
  {
   "cell_type": "code",
   "execution_count": 9,
   "metadata": {},
   "outputs": [
    {
     "name": "stdout",
     "output_type": "stream",
     "text": [
      "[[ 0.98110167]\n",
      " [ 0.6349814 ]\n",
      " [-0.21942411]\n",
      " [-0.30779131]\n",
      " [-0.00335252]] 244.10904278320257\n",
      "Predicted : [1297.34503969]\n",
      "Actual : 1280.0\n"
     ]
    }
   ],
   "source": [
    "weights = None\n",
    "bias = None\n",
    "#step value\n",
    "def prediction(X, W, b):\n",
    "\n",
    "    return ((np.matmul(X,W)+b)[0])\n",
    "\n",
    "#functon for getting weight\n",
    "def Stepfunction(X, y, W, b, learn_rate = 0.01):\n",
    "\n",
    "    for i in range(0, len(X)):\n",
    "\n",
    "        y_hat = prediction(X[i], W, b)\n",
    "\n",
    "        if y[i] > y_hat:\n",
    "           \n",
    "            W[0] += (X[i][0]*learn_rate)\n",
    "            W[1] += (X[i][1]*learn_rate)\n",
    "            W[2] += (X[i][2]*learn_rate)\n",
    "            W[3] += (X[i][3]*learn_rate)\n",
    "            W[4] += (X[i][4]*learn_rate)\n",
    "            #W[5] += (X[i][5]*learn_rate)\n",
    "            #W[6] += (X[i][6]*learn_rate)\n",
    "            \n",
    "            b += learn_rate\n",
    "\n",
    "        elif y[i] < y_hat:\n",
    "\n",
    "            \n",
    "\n",
    "            W[0] -= (X[i][0]*learn_rate)\n",
    "            W[1] -= (X[i][1]*learn_rate)\n",
    "            W[2] -= (X[i][2]*learn_rate)\n",
    "            W[3] -= (X[i][3]*learn_rate)\n",
    "            W[4] -= (X[i][4]*learn_rate)\n",
    "            #W[5] -= (X[i][5]*learn_rate)\n",
    "            #W[6] -= (X[i][6]*learn_rate)\n",
    "            \n",
    "            b -= learn_rate\n",
    "\n",
    "    return W, b\n",
    "\n",
    "#function to find the equation of boundary lines\n",
    "def trainmodel(X, y, learn_rate=0.00005, num_epoches=550):\n",
    "\n",
    "    global weights, bias\n",
    "    #finding max and min values\n",
    "    x1_min, x1_max = min(X.T[0]), max(X.T[0])\n",
    "    x2_min, x2_max = min(X.T[1]), max(X.T[1])\n",
    "    x3_min, x3_max = min(X.T[2]), max(X.T[2])\n",
    "    x4_min, x4_max = min(X.T[3]), max(X.T[3])\n",
    "    x5_min, x5_max = min(X.T[4]), max(X.T[4])\n",
    "    #x6_min, x6_max = min(X.T[5]), max(X.T[5])\n",
    "    #x7_min, x7_max = min(X.T[6]), max(X.T[6])\n",
    "    \n",
    "    W = np.array(np.random.rand(5,1)) \n",
    "\n",
    "    b = np.random.rand(1)[0] + (x1_max+x2_max+x3_max+x4_max+x5_max)/5#+x6_max+x7_max)/7\n",
    "\n",
    "    #training the model\n",
    "    for i in range(0,num_epoches):\n",
    "        W, b = Stepfunction(X, y, W, b, learn_rate)\n",
    "    weights = W\n",
    "    bias = b\n",
    "    print(W,b)\n",
    "\n",
    "if __name__ == '__main__':\n",
    "    trainmodel(X_train[:20], Y_train[:20])\n",
    "    idx =13\n",
    "    pred=np.matmul(X_train[idx],weights)+bias\n",
    "    act=Y_train[idx]\n",
    "    print(\"Predicted :\",pred)\n",
    "    print(\"Actual :\",act)"
   ]
  },
  {
   "cell_type": "markdown",
   "metadata": {},
   "source": [
    "## Saving weights of all nodes in a model"
   ]
  },
  {
   "cell_type": "code",
   "execution_count": 341,
   "metadata": {},
   "outputs": [],
   "source": [
    "def save_model(array, name):\n",
    "    np.savetxt(name+\".csv\", array, delimiter=\",\")"
   ]
  },
  {
   "cell_type": "code",
   "execution_count": 342,
   "metadata": {},
   "outputs": [],
   "source": [
    "def load_model(name):\n",
    "    with open(name+\".csv\", 'r') as read_file:\n",
    "        reader = csv.reader(read_file)\n",
    "        data = []\n",
    "        for row in reader:\n",
    "            data.append(row[0])\n",
    "    read_file.close()\n",
    "    data = np.asarray(data, dtype=np.float64)\n",
    "    return data"
   ]
  },
  {
   "cell_type": "markdown",
   "metadata": {},
   "source": [
    "## Save model for every crop in every district of karnataka"
   ]
  },
  {
   "cell_type": "code",
   "execution_count": 343,
   "metadata": {},
   "outputs": [
    {
     "name": "stdout",
     "output_type": "stream",
     "text": [
      "[1.31035315e+00 1.72475381e-01 2.90812907e-01 2.77962762e-01\n",
      " 1.08359409e-01 2.44229826e+02]\n"
     ]
    }
   ],
   "source": [
    "wb = np.append(weights, bias)\n",
    "#wb.append(bias)\n",
    "print(wb)\n",
    "save_model(wb, 'bagalkot_wheat')"
   ]
  }
 ],
 "metadata": {
  "kernelspec": {
   "display_name": "Python 3",
   "language": "python",
   "name": "python3"
  },
  "language_info": {
   "codemirror_mode": {
    "name": "ipython",
    "version": 3
   },
   "file_extension": ".py",
   "mimetype": "text/x-python",
   "name": "python",
   "nbconvert_exporter": "python",
   "pygments_lexer": "ipython3",
   "version": "3.7.0"
  }
 },
 "nbformat": 4,
 "nbformat_minor": 2
}
